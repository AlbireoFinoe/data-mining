{
  "nbformat": 4,
  "nbformat_minor": 0,
  "metadata": {
    "colab": {
      "provenance": [],
      "authorship_tag": "ABX9TyOcdryg5oPnk3thcYcas1z/",
      "include_colab_link": true
    },
    "kernelspec": {
      "name": "python3",
      "display_name": "Python 3"
    },
    "language_info": {
      "name": "python"
    }
  },
  "cells": [
    {
      "cell_type": "markdown",
      "metadata": {
        "id": "view-in-github",
        "colab_type": "text"
      },
      "source": [
        "<a href=\"https://colab.research.google.com/github/AlbireoFinoe/data-mining/blob/main/preprocessing.ipynb\" target=\"_parent\"><img src=\"https://colab.research.google.com/assets/colab-badge.svg\" alt=\"Open In Colab\"/></a>"
      ]
    },
    {
      "cell_type": "code",
      "source": [
        "import pandas as pd\n",
        "import numpy as np\n",
        "from sklearn.impute import SimpleImputer\n",
        "from sklearn.preprocessing import OneHotEncoder, LabelEncoder, StandardScaler\n",
        "from sklearn.compose import ColumnTransformer\n",
        "from sklearn.model_selection import train_test_split"
      ],
      "metadata": {
        "id": "USNI6jtP4Xfm"
      },
      "execution_count": 12,
      "outputs": []
    },
    {
      "cell_type": "code",
      "source": [
        "columns = [\n",
        "    \"age\", \"workclass\", \"fnlwgt\", \"education\", \"education-num\",\n",
        "    \"marital-status\", \"occupation\", \"relationship\", \"race\", \"sex\",\n",
        "    \"capital-gain\", \"capital-loss\", \"hours-per-week\", \"native-country\",\n",
        "    \"income\"\n",
        "]"
      ],
      "metadata": {
        "id": "6sryOGoB4cmJ"
      },
      "execution_count": 13,
      "outputs": []
    },
    {
      "cell_type": "code",
      "source": [
        "df = pd.read_csv(\"adult.data\", header=None, names=columns, na_values=\" ?\")\n",
        "\n",
        "print(\"==== Data Awal ====\")\n",
        "print(df.head())\n",
        "print(df.info())"
      ],
      "metadata": {
        "colab": {
          "base_uri": "https://localhost:8080/"
        },
        "id": "7hVm_8Ra4o6u",
        "outputId": "d659818c-aa86-4759-bf40-55f7c46ed142"
      },
      "execution_count": 14,
      "outputs": [
        {
          "output_type": "stream",
          "name": "stdout",
          "text": [
            "==== Data Awal ====\n",
            "   age          workclass  fnlwgt   education  education-num  \\\n",
            "0   39          State-gov   77516   Bachelors             13   \n",
            "1   50   Self-emp-not-inc   83311   Bachelors             13   \n",
            "2   38            Private  215646     HS-grad              9   \n",
            "3   53            Private  234721        11th              7   \n",
            "4   28            Private  338409   Bachelors             13   \n",
            "\n",
            "        marital-status          occupation    relationship    race      sex  \\\n",
            "0        Never-married        Adm-clerical   Not-in-family   White     Male   \n",
            "1   Married-civ-spouse     Exec-managerial         Husband   White     Male   \n",
            "2             Divorced   Handlers-cleaners   Not-in-family   White     Male   \n",
            "3   Married-civ-spouse   Handlers-cleaners         Husband   Black     Male   \n",
            "4   Married-civ-spouse      Prof-specialty            Wife   Black   Female   \n",
            "\n",
            "   capital-gain  capital-loss  hours-per-week  native-country  income  \n",
            "0          2174             0              40   United-States   <=50K  \n",
            "1             0             0              13   United-States   <=50K  \n",
            "2             0             0              40   United-States   <=50K  \n",
            "3             0             0              40   United-States   <=50K  \n",
            "4             0             0              40            Cuba   <=50K  \n",
            "<class 'pandas.core.frame.DataFrame'>\n",
            "RangeIndex: 32561 entries, 0 to 32560\n",
            "Data columns (total 15 columns):\n",
            " #   Column          Non-Null Count  Dtype \n",
            "---  ------          --------------  ----- \n",
            " 0   age             32561 non-null  int64 \n",
            " 1   workclass       30725 non-null  object\n",
            " 2   fnlwgt          32561 non-null  int64 \n",
            " 3   education       32561 non-null  object\n",
            " 4   education-num   32561 non-null  int64 \n",
            " 5   marital-status  32561 non-null  object\n",
            " 6   occupation      30718 non-null  object\n",
            " 7   relationship    32561 non-null  object\n",
            " 8   race            32561 non-null  object\n",
            " 9   sex             32561 non-null  object\n",
            " 10  capital-gain    32561 non-null  int64 \n",
            " 11  capital-loss    32561 non-null  int64 \n",
            " 12  hours-per-week  32561 non-null  int64 \n",
            " 13  native-country  31978 non-null  object\n",
            " 14  income          32561 non-null  object\n",
            "dtypes: int64(6), object(9)\n",
            "memory usage: 3.7+ MB\n",
            "None\n"
          ]
        }
      ]
    },
    {
      "cell_type": "code",
      "source": [
        "num_cols = df.select_dtypes(include=['int64','float64']).columns\n",
        "cat_cols = df.select_dtypes(include=['object']).columns.drop(\"income\")\n",
        "\n",
        "num_imputer = SimpleImputer(strategy='mean')\n",
        "cat_imputer = SimpleImputer(strategy='most_frequent')\n",
        "\n",
        "df[num_cols] = num_imputer.fit_transform(df[num_cols])\n",
        "df[cat_cols] = cat_imputer.fit_transform(df[cat_cols])\n",
        "\n",
        "print(\"\\n==== Setelah Imputasi Missing Value ====\")\n",
        "print(df.isnull().sum())"
      ],
      "metadata": {
        "colab": {
          "base_uri": "https://localhost:8080/"
        },
        "id": "taR71lBr4uVD",
        "outputId": "a0a3540e-46d5-481e-ed65-12ee2f7d76ab"
      },
      "execution_count": 15,
      "outputs": [
        {
          "output_type": "stream",
          "name": "stdout",
          "text": [
            "\n",
            "==== Setelah Imputasi Missing Value ====\n",
            "age               0\n",
            "workclass         0\n",
            "fnlwgt            0\n",
            "education         0\n",
            "education-num     0\n",
            "marital-status    0\n",
            "occupation        0\n",
            "relationship      0\n",
            "race              0\n",
            "sex               0\n",
            "capital-gain      0\n",
            "capital-loss      0\n",
            "hours-per-week    0\n",
            "native-country    0\n",
            "income            0\n",
            "dtype: int64\n"
          ]
        }
      ]
    },
    {
      "cell_type": "code",
      "source": [
        "X = df.drop(\"income\", axis=1)  # fitur\n",
        "y = df[\"income\"]               # label\n",
        "\n",
        "# Label encoding untuk target\n",
        "labelencoder = LabelEncoder()\n",
        "y = labelencoder.fit_transform(y)  # <=50K → 0, >50K → 1\n",
        "\n",
        "# One-hot encoding untuk semua fitur kategori\n",
        "ct = ColumnTransformer(\n",
        "    transformers=[(\"encoder\", OneHotEncoder(handle_unknown='ignore'), cat_cols)],\n",
        "    remainder=\"passthrough\"\n",
        ")\n",
        "X = ct.fit_transform(X)\n",
        "\n",
        "print(\"\\n==== Setelah Encoding ====\")\n",
        "print(\"Jumlah fitur hasil one-hot encoding:\", X.shape[1])\n"
      ],
      "metadata": {
        "colab": {
          "base_uri": "https://localhost:8080/"
        },
        "id": "OqQByOqo4zhd",
        "outputId": "5ab9a04b-3d07-4c80-846e-10c8e1118baa"
      },
      "execution_count": 16,
      "outputs": [
        {
          "output_type": "stream",
          "name": "stdout",
          "text": [
            "\n",
            "==== Setelah Encoding ====\n",
            "Jumlah fitur hasil one-hot encoding: 105\n"
          ]
        }
      ]
    },
    {
      "cell_type": "code",
      "source": [
        "X_train, X_test, y_train, y_test = train_test_split(\n",
        "    X, y, test_size=0.2, random_state=42\n",
        ")\n",
        "\n",
        "print(\"\\n==== Split Data ====\")\n",
        "print(\"Train set:\", X_train.shape, y_train.shape)\n",
        "print(\"Test set:\", X_test.shape, y_test.shape)"
      ],
      "metadata": {
        "colab": {
          "base_uri": "https://localhost:8080/"
        },
        "id": "ZYrsjFES46sd",
        "outputId": "fc1953f3-b7ac-41c7-899b-b64f8c7bb64a"
      },
      "execution_count": 17,
      "outputs": [
        {
          "output_type": "stream",
          "name": "stdout",
          "text": [
            "\n",
            "==== Split Data ====\n",
            "Train set: (26048, 105) (26048,)\n",
            "Test set: (6513, 105) (6513,)\n"
          ]
        }
      ]
    },
    {
      "cell_type": "code",
      "source": [
        "scaler = StandardScaler(with_mean=False)  # pakai with_mean=False karena hasil OneHot bisa sparse\n",
        "X_train = scaler.fit_transform(X_train)\n",
        "X_test = scaler.transform(X_test)\n",
        "\n",
        "print(\"\\n==== Setelah Scaling ====\")\n",
        "print(\"X_train (scaled) contoh:\\n\", X_train[:5])"
      ],
      "metadata": {
        "colab": {
          "base_uri": "https://localhost:8080/"
        },
        "id": "Xduhxmrs4--c",
        "outputId": "0a6033ff-0852-43fc-edfe-baa842f1a766"
      },
      "execution_count": 18,
      "outputs": [
        {
          "output_type": "stream",
          "name": "stdout",
          "text": [
            "\n",
            "==== Setelah Scaling ====\n",
            "X_train (scaled) contoh:\n",
            " <Compressed Sparse Row sparse matrix of dtype 'float64'\n",
            "\twith 61 stored elements and shape (5, 105)>\n",
            "  Coords\tValues\n",
            "  (0, 1)\t4.042097088299415\n",
            "  (0, 17)\t2.693081449078022\n",
            "  (0, 28)\t2.1291501886368143\n",
            "  (0, 40)\t2.5863729219381106\n",
            "  (0, 46)\t2.298792443301815\n",
            "  (0, 55)\t2.824641609759898\n",
            "  (0, 56)\t2.123634755013888\n",
            "  (0, 96)\t3.5314389523224907\n",
            "  (0, 99)\t2.418886319853158\n",
            "  (0, 100)\t1.883316250720019\n",
            "  (0, 101)\t5.0482441099275315\n",
            "  (0, 104)\t4.054853273097717\n",
            "  (1, 3)\t2.3128445615460205\n",
            "  (1, 16)\t4.953008719374762\n",
            "  (1, 26)\t2.0058978000714904\n",
            "  (1, 34)\t3.034937837426196\n",
            "  (1, 45)\t2.0354762818860186\n",
            "  (1, 55)\t2.824641609759898\n",
            "  (1, 57)\t2.123634755013937\n",
            "  (1, 96)\t3.5314389523224907\n",
            "  (1, 99)\t2.6387850762034453\n",
            "  (1, 100)\t0.8216125486091245\n",
            "  (1, 101)\t4.271591169938681\n",
            "  (1, 103)\t4.675165915581761\n",
            "  (1, 104)\t4.054853273097717\n",
            "  :\t:\n",
            "  (2, 104)\t3.2438826184781737\n",
            "  (3, 3)\t2.3128445615460205\n",
            "  (3, 16)\t4.953008719374762\n",
            "  (3, 26)\t2.0058978000714904\n",
            "  (3, 35)\t5.792329182052135\n",
            "  (3, 45)\t2.0354762818860186\n",
            "  (3, 55)\t2.824641609759898\n",
            "  (3, 57)\t2.123634755013937\n",
            "  (3, 96)\t3.5314389523224907\n",
            "  (3, 99)\t1.5392912944520096\n",
            "  (3, 100)\t1.7123302968329284\n",
            "  (3, 101)\t4.271591169938681\n",
            "  (3, 104)\t3.7304650112499\n",
            "  (4, 3)\t2.3128445615460205\n",
            "  (4, 23)\t2.4027531606136816\n",
            "  (4, 24)\t2.924055838716238\n",
            "  (4, 38)\t3.3202306732991524\n",
            "  (4, 46)\t2.298792443301815\n",
            "  (4, 55)\t2.824641609759898\n",
            "  (4, 57)\t2.123634755013937\n",
            "  (4, 96)\t3.5314389523224907\n",
            "  (4, 99)\t1.9790888071525838\n",
            "  (4, 100)\t2.659599893641297\n",
            "  (4, 101)\t3.883264699944255\n",
            "  (4, 104)\t3.2438826184781737\n"
          ]
        }
      ]
    },
    {
      "cell_type": "code",
      "source": [
        "from sklearn.preprocessing import StandardScaler\n",
        "\n",
        "# Setelah OneHotEncoding + Imputasi + Split dataset\n",
        "# X_train, X_test sudah siap di-scaling\n",
        "\n",
        "sc = StandardScaler(with_mean=False)\n",
        "# with_mean=False karena hasil OneHotEncoder berupa sparse matrix\n",
        "\n",
        "X_train = sc.fit_transform(X_train)\n",
        "X_test = sc.transform(X_test)\n",
        "\n",
        "print(\"Training shape:\", X_train.shape)\n",
        "print(\"Testing shape:\", X_test.shape)"
      ],
      "metadata": {
        "colab": {
          "base_uri": "https://localhost:8080/"
        },
        "id": "sT84zQY35DQf",
        "outputId": "b9d34c79-f24d-4701-aa1d-cc1eadafeef4"
      },
      "execution_count": 19,
      "outputs": [
        {
          "output_type": "stream",
          "name": "stdout",
          "text": [
            "Training shape: (26048, 105)\n",
            "Testing shape: (6513, 105)\n"
          ]
        }
      ]
    }
  ]
}